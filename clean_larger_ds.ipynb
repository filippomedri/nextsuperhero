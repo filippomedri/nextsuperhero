{
 "cells": [
  {
   "cell_type": "code",
   "execution_count": 1,
   "metadata": {
    "collapsed": true
   },
   "outputs": [],
   "source": [
    "import pandas as pd\n",
    "import numpy as np\n",
    "import os\n"
   ]
  },
  {
   "cell_type": "code",
   "execution_count": 2,
   "metadata": {},
   "outputs": [],
   "source": [
    "movies_df = pd.read_csv(os.path.join('data','movies_final'))"
   ]
  },
  {
   "cell_type": "code",
   "execution_count": 3,
   "metadata": {},
   "outputs": [
    {
     "data": {
      "text/plain": [
       "Unnamed: 0                      1550\nUnnamed: 0.1                    1550\nTitle                           1550\nDuration(Min)                   1283\nReleaseDate                     1426\nScore                           1142\nNoUsersRating                   1142\nMetaScore                         75\nNoReviews-Users                  850\nNoReviews-Crit                   741\nOpeningWE(USA)($)                187\nGross(USA)($)                    206\nCumulativeWorldWide Gross($)     138\ndtype: int64"
      ]
     },
     "execution_count": 3,
     "metadata": {},
     "output_type": "execute_result"
    }
   ],
   "source": [
    "movies_df.count()"
   ]
  },
  {
   "cell_type": "code",
   "execution_count": 5,
   "metadata": {},
   "outputs": [],
   "source": [
    "movies_df_clean_larger = movies_df[np.isfinite(movies_df['NoReviews-Users'])]"
   ]
  },
  {
   "cell_type": "code",
   "execution_count": 12,
   "metadata": {},
   "outputs": [
    {
     "data": {
      "text/plain": [
       "Unnamed: 0                      850\nUnnamed: 0.1                    850\nTitle                           850\nDuration(Min)                   810\nReleaseDate                     845\nScore                           839\nNoUsersRating                   839\nMetaScore                        75\nNoReviews-Users                 850\nNoReviews-Crit                  659\nOpeningWE(USA)($)               187\nGross(USA)($)                   206\nCumulativeWorldWide Gross($)    138\ndtype: int64"
      ]
     },
     "execution_count": 12,
     "metadata": {},
     "output_type": "execute_result"
    }
   ],
   "source": [
    "movies_df_clean_larger.count()"
   ]
  },
  {
   "cell_type": "code",
   "execution_count": 15,
   "metadata": {},
   "outputs": [
    {
     "name": "stderr",
     "output_type": "stream",
     "text": [
      "/home/filippo/anaconda3/envs/3_6_data_science/lib/python3.6/site-packages/ipykernel_launcher.py:1: SettingWithCopyWarning: \nA value is trying to be set on a copy of a slice from a DataFrame\n\nSee the caveats in the documentation: http://pandas.pydata.org/pandas-docs/stable/indexing.html#indexing-view-versus-copy\n  \"\"\"Entry point for launching an IPython kernel.\n"
     ]
    }
   ],
   "source": [
    "movies_df_clean_larger.sort_values('ReleaseDate',inplace=True)"
   ]
  },
  {
   "cell_type": "code",
   "execution_count": 19,
   "metadata": {},
   "outputs": [
    {
     "name": "stderr",
     "output_type": "stream",
     "text": [
      "/home/filippo/anaconda3/envs/3_6_data_science/lib/python3.6/site-packages/ipykernel_launcher.py:1: SettingWithCopyWarning: \nA value is trying to be set on a copy of a slice from a DataFrame\n\nSee the caveats in the documentation: http://pandas.pydata.org/pandas-docs/stable/indexing.html#indexing-view-versus-copy\n  \"\"\"Entry point for launching an IPython kernel.\n"
     ]
    }
   ],
   "source": [
    "movies_df_clean_larger.drop(movies_df_clean_larger.tail(5).index,inplace=True)"
   ]
  },
  {
   "cell_type": "code",
   "execution_count": 20,
   "metadata": {},
   "outputs": [
    {
     "data": {
      "text/html": [
       "<div>\n",
       "<style scoped>\n",
       "    .dataframe tbody tr th:only-of-type {\n",
       "        vertical-align: middle;\n",
       "    }\n",
       "\n",
       "    .dataframe tbody tr th {\n",
       "        vertical-align: top;\n",
       "    }\n",
       "\n",
       "    .dataframe thead th {\n",
       "        text-align: right;\n",
       "    }\n",
       "</style>\n",
       "<table border=\"1\" class=\"dataframe\">\n",
       "  <thead>\n",
       "    <tr style=\"text-align: right;\">\n",
       "      <th></th>\n",
       "      <th>Unnamed: 0</th>\n",
       "      <th>Unnamed: 0.1</th>\n",
       "      <th>Title</th>\n",
       "      <th>Duration(Min)</th>\n",
       "      <th>ReleaseDate</th>\n",
       "      <th>Score</th>\n",
       "      <th>NoUsersRating</th>\n",
       "      <th>MetaScore</th>\n",
       "      <th>NoReviews-Users</th>\n",
       "      <th>NoReviews-Crit</th>\n",
       "      <th>OpeningWE(USA)($)</th>\n",
       "      <th>Gross(USA)($)</th>\n",
       "      <th>CumulativeWorldWide Gross($)</th>\n",
       "    </tr>\n",
       "  </thead>\n",
       "  <tbody>\n",
       "    <tr>\n",
       "      <th>525</th>\n",
       "      <td>125</td>\n",
       "      <td>126</td>\n",
       "      <td>Suicide Squad: Hell to Pay (Video 2018)</td>\n",
       "      <td>86.0</td>\n",
       "      <td>2018-03-27</td>\n",
       "      <td>0.72</td>\n",
       "      <td>2419.0</td>\n",
       "      <td>NaN</td>\n",
       "      <td>29.0</td>\n",
       "      <td>18.0</td>\n",
       "      <td>NaN</td>\n",
       "      <td>NaN</td>\n",
       "      <td>NaN</td>\n",
       "    </tr>\n",
       "    <tr>\n",
       "      <th>549</th>\n",
       "      <td>149</td>\n",
       "      <td>150</td>\n",
       "      <td>Sign Gene (2017)</td>\n",
       "      <td>NaN</td>\n",
       "      <td>2018-04-13</td>\n",
       "      <td>0.79</td>\n",
       "      <td>21.0</td>\n",
       "      <td>NaN</td>\n",
       "      <td>5.0</td>\n",
       "      <td>3.0</td>\n",
       "      <td>NaN</td>\n",
       "      <td>NaN</td>\n",
       "      <td>NaN</td>\n",
       "    </tr>\n",
       "    <tr>\n",
       "      <th>524</th>\n",
       "      <td>124</td>\n",
       "      <td>125</td>\n",
       "      <td>Batman Ninja (2018)</td>\n",
       "      <td>85.0</td>\n",
       "      <td>2018-04-24</td>\n",
       "      <td>0.91</td>\n",
       "      <td>291.0</td>\n",
       "      <td>NaN</td>\n",
       "      <td>6.0</td>\n",
       "      <td>1.0</td>\n",
       "      <td>NaN</td>\n",
       "      <td>NaN</td>\n",
       "      <td>NaN</td>\n",
       "    </tr>\n",
       "    <tr>\n",
       "      <th>531</th>\n",
       "      <td>131</td>\n",
       "      <td>132</td>\n",
       "      <td>Psychokinesis (2018)</td>\n",
       "      <td>101.0</td>\n",
       "      <td>2018-04-25</td>\n",
       "      <td>0.53</td>\n",
       "      <td>130.0</td>\n",
       "      <td>NaN</td>\n",
       "      <td>1.0</td>\n",
       "      <td>1.0</td>\n",
       "      <td>NaN</td>\n",
       "      <td>NaN</td>\n",
       "      <td>NaN</td>\n",
       "    </tr>\n",
       "    <tr>\n",
       "      <th>522</th>\n",
       "      <td>122</td>\n",
       "      <td>123</td>\n",
       "      <td>Avengers: Infinity War (2018)</td>\n",
       "      <td>149.0</td>\n",
       "      <td>2018-04-27</td>\n",
       "      <td>0.95</td>\n",
       "      <td>3936.0</td>\n",
       "      <td>NaN</td>\n",
       "      <td>9.0</td>\n",
       "      <td>NaN</td>\n",
       "      <td>NaN</td>\n",
       "      <td>NaN</td>\n",
       "      <td>NaN</td>\n",
       "    </tr>\n",
       "  </tbody>\n",
       "</table>\n",
       "</div>"
      ],
      "text/plain": [
       "<div>\n",
       "<style scoped>\n",
       "    .dataframe tbody tr th:only-of-type {\n",
       "        vertical-align: middle;\n",
       "    }\n",
       "\n",
       "    .dataframe tbody tr th {\n",
       "        vertical-align: top;\n",
       "    }\n",
       "\n",
       "    .dataframe thead th {\n",
       "        text-align: right;\n",
       "    }\n",
       "</style>\n",
       "<table border=\"1\" class=\"dataframe\">\n",
       "  <thead>\n",
       "    <tr style=\"text-align: right;\">\n",
       "      <th></th>\n",
       "      <th>Unnamed: 0</th>\n",
       "      <th>Unnamed: 0.1</th>\n",
       "      <th>Title</th>\n",
       "      <th>Duration(Min)</th>\n",
       "      <th>ReleaseDate</th>\n",
       "      <th>Score</th>\n",
       "      <th>NoUsersRating</th>\n",
       "      <th>MetaScore</th>\n",
       "      <th>NoReviews-Users</th>\n",
       "      <th>NoReviews-Crit</th>\n",
       "      <th>OpeningWE(USA)($)</th>\n",
       "      <th>Gross(USA)($)</th>\n",
       "      <th>CumulativeWorldWide Gross($)</th>\n",
       "    </tr>\n",
       "  </thead>\n",
       "  <tbody>\n",
       "    <tr>\n",
       "      <th>525</th>\n",
       "      <td>125</td>\n",
       "      <td>126</td>\n",
       "      <td>Suicide Squad: Hell to Pay (Video 2018)</td>\n",
       "      <td>86.0</td>\n",
       "      <td>2018-03-27</td>\n",
       "      <td>0.72</td>\n",
       "      <td>2419.0</td>\n",
       "      <td>NaN</td>\n",
       "      <td>29.0</td>\n",
       "      <td>18.0</td>\n",
       "      <td>NaN</td>\n",
       "      <td>NaN</td>\n",
       "      <td>NaN</td>\n",
       "    </tr>\n",
       "    <tr>\n",
       "      <th>549</th>\n",
       "      <td>149</td>\n",
       "      <td>150</td>\n",
       "      <td>Sign Gene (2017)</td>\n",
       "      <td>NaN</td>\n",
       "      <td>2018-04-13</td>\n",
       "      <td>0.79</td>\n",
       "      <td>21.0</td>\n",
       "      <td>NaN</td>\n",
       "      <td>5.0</td>\n",
       "      <td>3.0</td>\n",
       "      <td>NaN</td>\n",
       "      <td>NaN</td>\n",
       "      <td>NaN</td>\n",
       "    </tr>\n",
       "    <tr>\n",
       "      <th>524</th>\n",
       "      <td>124</td>\n",
       "      <td>125</td>\n",
       "      <td>Batman Ninja (2018)</td>\n",
       "      <td>85.0</td>\n",
       "      <td>2018-04-24</td>\n",
       "      <td>0.91</td>\n",
       "      <td>291.0</td>\n",
       "      <td>NaN</td>\n",
       "      <td>6.0</td>\n",
       "      <td>1.0</td>\n",
       "      <td>NaN</td>\n",
       "      <td>NaN</td>\n",
       "      <td>NaN</td>\n",
       "    </tr>\n",
       "    <tr>\n",
       "      <th>531</th>\n",
       "      <td>131</td>\n",
       "      <td>132</td>\n",
       "      <td>Psychokinesis (2018)</td>\n",
       "      <td>101.0</td>\n",
       "      <td>2018-04-25</td>\n",
       "      <td>0.53</td>\n",
       "      <td>130.0</td>\n",
       "      <td>NaN</td>\n",
       "      <td>1.0</td>\n",
       "      <td>1.0</td>\n",
       "      <td>NaN</td>\n",
       "      <td>NaN</td>\n",
       "      <td>NaN</td>\n",
       "    </tr>\n",
       "    <tr>\n",
       "      <th>522</th>\n",
       "      <td>122</td>\n",
       "      <td>123</td>\n",
       "      <td>Avengers: Infinity War (2018)</td>\n",
       "      <td>149.0</td>\n",
       "      <td>2018-04-27</td>\n",
       "      <td>0.95</td>\n",
       "      <td>3936.0</td>\n",
       "      <td>NaN</td>\n",
       "      <td>9.0</td>\n",
       "      <td>NaN</td>\n",
       "      <td>NaN</td>\n",
       "      <td>NaN</td>\n",
       "      <td>NaN</td>\n",
       "    </tr>\n",
       "  </tbody>\n",
       "</table>\n",
       "</div>"
      ]
     },
     "execution_count": 20,
     "metadata": {},
     "output_type": "execute_result"
    }
   ],
   "source": [
    "movies_df_clean_larger.tail()"
   ]
  },
  {
   "cell_type": "code",
   "execution_count": 21,
   "metadata": {},
   "outputs": [
    {
     "name": "stderr",
     "output_type": "stream",
     "text": [
      "/home/filippo/anaconda3/envs/3_6_data_science/lib/python3.6/site-packages/pandas/core/generic.py:4355: SettingWithCopyWarning: \nA value is trying to be set on a copy of a slice from a DataFrame\n\nSee the caveats in the documentation: http://pandas.pydata.org/pandas-docs/stable/indexing.html#indexing-view-versus-copy\n  self._update_inplace(new_data)\n"
     ]
    }
   ],
   "source": [
    "movies_df_clean_larger['Score'].fillna(movies_df_clean_larger['Score'].median(),inplace=True)\n",
    "movies_df_clean_larger['NoUsersRating'].fillna(movies_df_clean_larger['NoUsersRating'].median(),inplace=True)\n",
    "movies_df_clean_larger['MetaScore'].fillna(movies_df_clean_larger['MetaScore'].median(),inplace=True)\n",
    "movies_df_clean_larger['NoReviews-Users'].fillna(movies_df_clean_larger['NoReviews-Users'].median(),inplace=True)\n",
    "movies_df_clean_larger['NoReviews-Crit'].fillna(movies_df_clean_larger['NoReviews-Crit'].median(),inplace=True)\n",
    "movies_df_clean_larger['OpeningWE(USA)($)'].fillna(movies_df_clean_larger['OpeningWE(USA)($)'].median(),inplace=True)\n",
    "movies_df_clean_larger['Gross(USA)($)'].fillna(movies_df_clean_larger['Gross(USA)($)'].median(),inplace=True)\n"
   ]
  },
  {
   "cell_type": "code",
   "execution_count": 22,
   "metadata": {},
   "outputs": [
    {
     "name": "stderr",
     "output_type": "stream",
     "text": [
      "/home/filippo/anaconda3/envs/3_6_data_science/lib/python3.6/site-packages/pandas/core/generic.py:4355: SettingWithCopyWarning: \nA value is trying to be set on a copy of a slice from a DataFrame\n\nSee the caveats in the documentation: http://pandas.pydata.org/pandas-docs/stable/indexing.html#indexing-view-versus-copy\n  self._update_inplace(new_data)\n"
     ]
    }
   ],
   "source": [
    "movies_df_clean_larger['CumulativeWorldWide Gross($)'].fillna(movies_df_clean_larger['Gross(USA)($)'], inplace=True)"
   ]
  },
  {
   "cell_type": "code",
   "execution_count": 23,
   "metadata": {},
   "outputs": [
    {
     "data": {
      "text/plain": [
       "Unnamed: 0                      845\nUnnamed: 0.1                    845\nTitle                           845\nDuration(Min)                   808\nReleaseDate                     845\nScore                           845\nNoUsersRating                   845\nMetaScore                       845\nNoReviews-Users                 845\nNoReviews-Crit                  845\nOpeningWE(USA)($)               845\nGross(USA)($)                   845\nCumulativeWorldWide Gross($)    845\ndtype: int64"
      ]
     },
     "execution_count": 23,
     "metadata": {},
     "output_type": "execute_result"
    }
   ],
   "source": [
    "movies_df_clean_larger.count()"
   ]
  },
  {
   "cell_type": "code",
   "execution_count": 25,
   "metadata": {},
   "outputs": [],
   "source": [
    "movies_df_clean_larger = movies_df_clean_larger[['Title',\n",
    "                                                 'ReleaseDate',\n",
    "                                                 'Score',\n",
    "                                                 'NoUsersRating',\n",
    "                                                 'MetaScore',\n",
    "                                                 'NoReviews-Users',\n",
    "                                                 'NoReviews-Crit',\n",
    "                                                 'OpeningWE(USA)($)',\n",
    "                                                 'Gross(USA)($)',\n",
    "                                                 'CumulativeWorldWide Gross($)']].copy()"
   ]
  },
  {
   "cell_type": "code",
   "execution_count": 26,
   "metadata": {},
   "outputs": [
    {
     "data": {
      "text/html": [
       "<div>\n",
       "<style scoped>\n",
       "    .dataframe tbody tr th:only-of-type {\n",
       "        vertical-align: middle;\n",
       "    }\n",
       "\n",
       "    .dataframe tbody tr th {\n",
       "        vertical-align: top;\n",
       "    }\n",
       "\n",
       "    .dataframe thead th {\n",
       "        text-align: right;\n",
       "    }\n",
       "</style>\n",
       "<table border=\"1\" class=\"dataframe\">\n",
       "  <thead>\n",
       "    <tr style=\"text-align: right;\">\n",
       "      <th></th>\n",
       "      <th>Title</th>\n",
       "      <th>ReleaseDate</th>\n",
       "      <th>Score</th>\n",
       "      <th>NoUsersRating</th>\n",
       "      <th>MetaScore</th>\n",
       "      <th>NoReviews-Users</th>\n",
       "      <th>NoReviews-Crit</th>\n",
       "      <th>OpeningWE(USA)($)</th>\n",
       "      <th>Gross(USA)($)</th>\n",
       "      <th>CumulativeWorldWide Gross($)</th>\n",
       "    </tr>\n",
       "  </thead>\n",
       "  <tbody>\n",
       "    <tr>\n",
       "      <th>0</th>\n",
       "      <td>The Green Archer (1925)</td>\n",
       "      <td>1925-12-06</td>\n",
       "      <td>0.62</td>\n",
       "      <td>687.0</td>\n",
       "      <td>68.0</td>\n",
       "      <td>1.0</td>\n",
       "      <td>16.0</td>\n",
       "      <td>19167085.0</td>\n",
       "      <td>53786889.5</td>\n",
       "      <td>53786889.5</td>\n",
       "    </tr>\n",
       "    <tr>\n",
       "      <th>1</th>\n",
       "      <td>The Spider's Web (1938)</td>\n",
       "      <td>1938-10-22</td>\n",
       "      <td>0.73</td>\n",
       "      <td>91.0</td>\n",
       "      <td>68.0</td>\n",
       "      <td>5.0</td>\n",
       "      <td>3.0</td>\n",
       "      <td>19167085.0</td>\n",
       "      <td>53786889.5</td>\n",
       "      <td>53786889.5</td>\n",
       "    </tr>\n",
       "    <tr>\n",
       "      <th>2</th>\n",
       "      <td>The Green Hornet (1940)</td>\n",
       "      <td>1940-01-09</td>\n",
       "      <td>0.71</td>\n",
       "      <td>398.0</td>\n",
       "      <td>68.0</td>\n",
       "      <td>12.0</td>\n",
       "      <td>10.0</td>\n",
       "      <td>19167085.0</td>\n",
       "      <td>53786889.5</td>\n",
       "      <td>53786889.5</td>\n",
       "    </tr>\n",
       "    <tr>\n",
       "      <th>4</th>\n",
       "      <td>The Green Hornet Strikes Again! (1940)</td>\n",
       "      <td>1940-12-24</td>\n",
       "      <td>0.72</td>\n",
       "      <td>274.0</td>\n",
       "      <td>68.0</td>\n",
       "      <td>3.0</td>\n",
       "      <td>2.0</td>\n",
       "      <td>19167085.0</td>\n",
       "      <td>53786889.5</td>\n",
       "      <td>53786889.5</td>\n",
       "    </tr>\n",
       "    <tr>\n",
       "      <th>5</th>\n",
       "      <td>Superman (1941)</td>\n",
       "      <td>1941-09-26</td>\n",
       "      <td>0.74</td>\n",
       "      <td>2355.0</td>\n",
       "      <td>68.0</td>\n",
       "      <td>27.0</td>\n",
       "      <td>14.0</td>\n",
       "      <td>19167085.0</td>\n",
       "      <td>53786889.5</td>\n",
       "      <td>53786889.5</td>\n",
       "    </tr>\n",
       "  </tbody>\n",
       "</table>\n",
       "</div>"
      ],
      "text/plain": [
       "<div>\n",
       "<style scoped>\n",
       "    .dataframe tbody tr th:only-of-type {\n",
       "        vertical-align: middle;\n",
       "    }\n",
       "\n",
       "    .dataframe tbody tr th {\n",
       "        vertical-align: top;\n",
       "    }\n",
       "\n",
       "    .dataframe thead th {\n",
       "        text-align: right;\n",
       "    }\n",
       "</style>\n",
       "<table border=\"1\" class=\"dataframe\">\n",
       "  <thead>\n",
       "    <tr style=\"text-align: right;\">\n",
       "      <th></th>\n",
       "      <th>Title</th>\n",
       "      <th>ReleaseDate</th>\n",
       "      <th>Score</th>\n",
       "      <th>NoUsersRating</th>\n",
       "      <th>MetaScore</th>\n",
       "      <th>NoReviews-Users</th>\n",
       "      <th>NoReviews-Crit</th>\n",
       "      <th>OpeningWE(USA)($)</th>\n",
       "      <th>Gross(USA)($)</th>\n",
       "      <th>CumulativeWorldWide Gross($)</th>\n",
       "    </tr>\n",
       "  </thead>\n",
       "  <tbody>\n",
       "    <tr>\n",
       "      <th>0</th>\n",
       "      <td>The Green Archer (1925)</td>\n",
       "      <td>1925-12-06</td>\n",
       "      <td>0.62</td>\n",
       "      <td>687.0</td>\n",
       "      <td>68.0</td>\n",
       "      <td>1.0</td>\n",
       "      <td>16.0</td>\n",
       "      <td>19167085.0</td>\n",
       "      <td>53786889.5</td>\n",
       "      <td>53786889.5</td>\n",
       "    </tr>\n",
       "    <tr>\n",
       "      <th>1</th>\n",
       "      <td>The Spider's Web (1938)</td>\n",
       "      <td>1938-10-22</td>\n",
       "      <td>0.73</td>\n",
       "      <td>91.0</td>\n",
       "      <td>68.0</td>\n",
       "      <td>5.0</td>\n",
       "      <td>3.0</td>\n",
       "      <td>19167085.0</td>\n",
       "      <td>53786889.5</td>\n",
       "      <td>53786889.5</td>\n",
       "    </tr>\n",
       "    <tr>\n",
       "      <th>2</th>\n",
       "      <td>The Green Hornet (1940)</td>\n",
       "      <td>1940-01-09</td>\n",
       "      <td>0.71</td>\n",
       "      <td>398.0</td>\n",
       "      <td>68.0</td>\n",
       "      <td>12.0</td>\n",
       "      <td>10.0</td>\n",
       "      <td>19167085.0</td>\n",
       "      <td>53786889.5</td>\n",
       "      <td>53786889.5</td>\n",
       "    </tr>\n",
       "    <tr>\n",
       "      <th>4</th>\n",
       "      <td>The Green Hornet Strikes Again! (1940)</td>\n",
       "      <td>1940-12-24</td>\n",
       "      <td>0.72</td>\n",
       "      <td>274.0</td>\n",
       "      <td>68.0</td>\n",
       "      <td>3.0</td>\n",
       "      <td>2.0</td>\n",
       "      <td>19167085.0</td>\n",
       "      <td>53786889.5</td>\n",
       "      <td>53786889.5</td>\n",
       "    </tr>\n",
       "    <tr>\n",
       "      <th>5</th>\n",
       "      <td>Superman (1941)</td>\n",
       "      <td>1941-09-26</td>\n",
       "      <td>0.74</td>\n",
       "      <td>2355.0</td>\n",
       "      <td>68.0</td>\n",
       "      <td>27.0</td>\n",
       "      <td>14.0</td>\n",
       "      <td>19167085.0</td>\n",
       "      <td>53786889.5</td>\n",
       "      <td>53786889.5</td>\n",
       "    </tr>\n",
       "  </tbody>\n",
       "</table>\n",
       "</div>"
      ]
     },
     "execution_count": 26,
     "metadata": {},
     "output_type": "execute_result"
    }
   ],
   "source": [
    "movies_df_clean_larger.head()"
   ]
  },
  {
   "cell_type": "code",
   "execution_count": 27,
   "metadata": {},
   "outputs": [],
   "source": [
    "movies_df_clean_larger.to_csv(os.path.join('data','movies_final_clean_larger'))"
   ]
  },
  {
   "cell_type": "code",
   "execution_count": null,
   "metadata": {},
   "outputs": [],
   "source": []
  }
 ],
 "metadata": {
  "kernelspec": {
   "display_name": "Python 2",
   "language": "python",
   "name": "python2"
  },
  "language_info": {
   "codemirror_mode": {
    "name": "ipython",
    "version": 2
   },
   "file_extension": ".py",
   "mimetype": "text/x-python",
   "name": "python",
   "nbconvert_exporter": "python",
   "pygments_lexer": "ipython2",
   "version": "2.7.6"
  }
 },
 "nbformat": 4,
 "nbformat_minor": 0
}
