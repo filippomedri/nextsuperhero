{
 "cells": [
  {
   "cell_type": "code",
   "execution_count": 66,
   "metadata": {
    "collapsed": true
   },
   "outputs": [
    {
     "name": "stderr",
     "output_type": "stream",
     "text": [
      "/home/filippo/anaconda3/envs/3_6_data_science/lib/python3.6/site-packages/ipykernel_launcher.py:6: UserWarning: once\n  \n"
     ]
    }
   ],
   "source": [
    "import pandas as pd\n",
    "from matplotlib import pyplot as plt\n",
    "import os\n",
    "import warnings\n",
    "import seaborn as sns\n",
    "warnings.warn(\"once\")"
   ]
  },
  {
   "cell_type": "code",
   "execution_count": 67,
   "metadata": {},
   "outputs": [],
   "source": [
    "from sklearn.linear_model import LinearRegression\n",
    "from sklearn import metrics\n",
    "from sklearn.preprocessing import PolynomialFeatures\n",
    "from sklearn.pipeline import make_pipeline\n",
    "from sklearn.model_selection import train_test_split\n",
    "from sklearn.model_selection import KFold\n",
    "from sklearn.model_selection import cross_val_score\n",
    "from sklearn.model_selection import GridSearchCV\n",
    "from sklearn.linear_model import Lasso\n",
    "% matplotlib inline"
   ]
  },
  {
   "cell_type": "code",
   "execution_count": 41,
   "metadata": {},
   "outputs": [],
   "source": [
    "linear_model_df = pd.read_csv(os.path.join('data','linear_regression_model'))"
   ]
  },
  {
   "cell_type": "code",
   "execution_count": 42,
   "metadata": {},
   "outputs": [],
   "source": [
    "X = linear_model_df[['X1','X2','X3','X4','X5','X6','X7','X8']]\n",
    "y = linear_model_df['Y']"
   ]
  },
  {
   "cell_type": "code",
   "execution_count": 43,
   "metadata": {},
   "outputs": [
    {
     "data": {
      "text/plain": [
       "0.39422354825492356"
      ]
     },
     "execution_count": 43,
     "metadata": {},
     "output_type": "execute_result"
    }
   ],
   "source": [
    "lr = LinearRegression()\n",
    "# INSTRUCTOR NOTE: Run this multiple times to show the variation\n",
    "# Split the data into training and test sets\n",
    "X_train, X_test, y_train, y_test = train_test_split(X, y, test_size=0.2)\n",
    "# Fit the model against the training data\n",
    "lr.fit(X_train, y_train)\n",
    "# Evaluate the model against the testing data\n",
    "lr.score(X_test, y_test)"
   ]
  },
  {
   "cell_type": "code",
   "execution_count": 44,
   "metadata": {},
   "outputs": [
    {
     "data": {
      "text/plain": [
       "array([478.43150415, 144.05879484, 487.47190313])"
      ]
     },
     "execution_count": 44,
     "metadata": {},
     "output_type": "execute_result"
    }
   ],
   "source": [
    "reg = LinearRegression()\n",
    "scores = cross_val_score(reg, X, y, cv=3, scoring='neg_mean_squared_error')\n",
    "-scores"
   ]
  },
  {
   "cell_type": "markdown",
   "metadata": {},
   "source": [
    "#Lasso"
   ]
  },
  {
   "cell_type": "code",
   "execution_count": 45,
   "metadata": {},
   "outputs": [
    {
     "data": {
      "text/plain": [
       "GridSearchCV(cv=5, error_score='raise',\n       estimator=Lasso(alpha=1.0, copy_X=True, fit_intercept=True, max_iter=1000,\n   normalize=False, positive=False, precompute=False, random_state=None,\n   selection='cyclic', tol=0.0001, warm_start=False),\n       fit_params=None, iid=True, n_jobs=1,\n       param_grid={'alpha': [0.0001, 0.001, 0.01, 0.1]},\n       pre_dispatch='2*n_jobs', refit=True, return_train_score='warn',\n       scoring=None, verbose=0)"
      ]
     },
     "execution_count": 45,
     "metadata": {},
     "output_type": "execute_result"
    }
   ],
   "source": [
    "d = {'alpha': [1e-4, 1e-3, 1e-2, .1]}\n",
    "clf = GridSearchCV(Lasso(), d, cv=5)\n",
    "clf.fit(X, y)"
   ]
  },
  {
   "cell_type": "code",
   "execution_count": 46,
   "metadata": {},
   "outputs": [],
   "source": [
    "means = clf.cv_results_['mean_test_score']\n",
    "stds = clf.cv_results_['std_test_score']\n",
    "for mean, std, params in zip(means, stds, clf.cv_results_['params']):\n",
    "    print(\"%0.3f (+/-%0.03f) for %r\" % (mean, std * 2, params))"
   ]
  },
  {
   "cell_type": "code",
   "execution_count": 47,
   "metadata": {},
   "outputs": [
    {
     "name": "stdout",
     "output_type": "stream",
     "text": [
      "('X1', -9.179277136481613)\n('X2', 8.371528462982958e-06)\n('X3', -0.00608128159547475)\n('X4', -0.006747321605872683)\n('X5', 0.06970302952556762)\n('X6', 7.082831838697684e-09)\n('X7', -1.5704231733728547e-07)\n('X8', 5.8578484268101187e-08)\n"
     ]
    }
   ],
   "source": [
    "clf = Lasso(alpha = .1)\n",
    "clf.fit(X,y)\n",
    "\n",
    "for tup in (list(zip(X.columns,clf.coef_))):\n",
    "    print(tup)\n"
   ]
  },
  {
   "cell_type": "markdown",
   "metadata": {},
   "source": [
    "# Lasso on best model"
   ]
  },
  {
   "cell_type": "code",
   "execution_count": 48,
   "metadata": {},
   "outputs": [],
   "source": [
    "best_model_df = pd.read_csv(os.path.join('data','best_linear_regression_model'))"
   ]
  },
  {
   "cell_type": "code",
   "execution_count": 49,
   "metadata": {},
   "outputs": [
    {
     "data": {
      "text/html": [
       "<div>\n",
       "<style scoped>\n",
       "    .dataframe tbody tr th:only-of-type {\n",
       "        vertical-align: middle;\n",
       "    }\n",
       "\n",
       "    .dataframe tbody tr th {\n",
       "        vertical-align: top;\n",
       "    }\n",
       "\n",
       "    .dataframe thead th {\n",
       "        text-align: right;\n",
       "    }\n",
       "</style>\n",
       "<table border=\"1\" class=\"dataframe\">\n",
       "  <thead>\n",
       "    <tr style=\"text-align: right;\">\n",
       "      <th></th>\n",
       "      <th>Unnamed: 0</th>\n",
       "      <th>Y</th>\n",
       "      <th>X3</th>\n",
       "      <th>X4</th>\n",
       "      <th>X5</th>\n",
       "      <th>X7</th>\n",
       "      <th>X8</th>\n",
       "      <th>X1*X5</th>\n",
       "      <th>X2*X3</th>\n",
       "      <th>X4*X5</th>\n",
       "    </tr>\n",
       "  </thead>\n",
       "  <tbody>\n",
       "    <tr>\n",
       "      <th>0</th>\n",
       "      <td>0</td>\n",
       "      <td>17</td>\n",
       "      <td>86.0</td>\n",
       "      <td>517.0</td>\n",
       "      <td>176.0</td>\n",
       "      <td>134218018.0</td>\n",
       "      <td>166200000.0</td>\n",
       "      <td>128.48</td>\n",
       "      <td>12050062.0</td>\n",
       "      <td>90992.0</td>\n",
       "    </tr>\n",
       "    <tr>\n",
       "      <th>1</th>\n",
       "      <td>1</td>\n",
       "      <td>11</td>\n",
       "      <td>68.5</td>\n",
       "      <td>260.0</td>\n",
       "      <td>106.0</td>\n",
       "      <td>27107960.0</td>\n",
       "      <td>27107960.0</td>\n",
       "      <td>68.90</td>\n",
       "      <td>2920497.5</td>\n",
       "      <td>27560.0</td>\n",
       "    </tr>\n",
       "    <tr>\n",
       "      <th>2</th>\n",
       "      <td>2</td>\n",
       "      <td>11</td>\n",
       "      <td>68.5</td>\n",
       "      <td>260.0</td>\n",
       "      <td>106.0</td>\n",
       "      <td>27107960.0</td>\n",
       "      <td>27107960.0</td>\n",
       "      <td>68.90</td>\n",
       "      <td>2920497.5</td>\n",
       "      <td>27560.0</td>\n",
       "    </tr>\n",
       "    <tr>\n",
       "      <th>3</th>\n",
       "      <td>3</td>\n",
       "      <td>11</td>\n",
       "      <td>68.5</td>\n",
       "      <td>16.0</td>\n",
       "      <td>10.0</td>\n",
       "      <td>15934737.0</td>\n",
       "      <td>15934737.0</td>\n",
       "      <td>6.10</td>\n",
       "      <td>78021.5</td>\n",
       "      <td>160.0</td>\n",
       "    </tr>\n",
       "    <tr>\n",
       "      <th>4</th>\n",
       "      <td>4</td>\n",
       "      <td>8</td>\n",
       "      <td>87.0</td>\n",
       "      <td>277.0</td>\n",
       "      <td>127.0</td>\n",
       "      <td>108185706.0</td>\n",
       "      <td>108185706.0</td>\n",
       "      <td>86.36</td>\n",
       "      <td>7443111.0</td>\n",
       "      <td>35179.0</td>\n",
       "    </tr>\n",
       "  </tbody>\n",
       "</table>\n",
       "</div>"
      ],
      "text/plain": [
       "<div>\n",
       "<style scoped>\n",
       "    .dataframe tbody tr th:only-of-type {\n",
       "        vertical-align: middle;\n",
       "    }\n",
       "\n",
       "    .dataframe tbody tr th {\n",
       "        vertical-align: top;\n",
       "    }\n",
       "\n",
       "    .dataframe thead th {\n",
       "        text-align: right;\n",
       "    }\n",
       "</style>\n",
       "<table border=\"1\" class=\"dataframe\">\n",
       "  <thead>\n",
       "    <tr style=\"text-align: right;\">\n",
       "      <th></th>\n",
       "      <th>Unnamed: 0</th>\n",
       "      <th>Y</th>\n",
       "      <th>X3</th>\n",
       "      <th>X4</th>\n",
       "      <th>X5</th>\n",
       "      <th>X7</th>\n",
       "      <th>X8</th>\n",
       "      <th>X1*X5</th>\n",
       "      <th>X2*X3</th>\n",
       "      <th>X4*X5</th>\n",
       "    </tr>\n",
       "  </thead>\n",
       "  <tbody>\n",
       "    <tr>\n",
       "      <th>0</th>\n",
       "      <td>0</td>\n",
       "      <td>17</td>\n",
       "      <td>86.0</td>\n",
       "      <td>517.0</td>\n",
       "      <td>176.0</td>\n",
       "      <td>134218018.0</td>\n",
       "      <td>166200000.0</td>\n",
       "      <td>128.48</td>\n",
       "      <td>12050062.0</td>\n",
       "      <td>90992.0</td>\n",
       "    </tr>\n",
       "    <tr>\n",
       "      <th>1</th>\n",
       "      <td>1</td>\n",
       "      <td>11</td>\n",
       "      <td>68.5</td>\n",
       "      <td>260.0</td>\n",
       "      <td>106.0</td>\n",
       "      <td>27107960.0</td>\n",
       "      <td>27107960.0</td>\n",
       "      <td>68.90</td>\n",
       "      <td>2920497.5</td>\n",
       "      <td>27560.0</td>\n",
       "    </tr>\n",
       "    <tr>\n",
       "      <th>2</th>\n",
       "      <td>2</td>\n",
       "      <td>11</td>\n",
       "      <td>68.5</td>\n",
       "      <td>260.0</td>\n",
       "      <td>106.0</td>\n",
       "      <td>27107960.0</td>\n",
       "      <td>27107960.0</td>\n",
       "      <td>68.90</td>\n",
       "      <td>2920497.5</td>\n",
       "      <td>27560.0</td>\n",
       "    </tr>\n",
       "    <tr>\n",
       "      <th>3</th>\n",
       "      <td>3</td>\n",
       "      <td>11</td>\n",
       "      <td>68.5</td>\n",
       "      <td>16.0</td>\n",
       "      <td>10.0</td>\n",
       "      <td>15934737.0</td>\n",
       "      <td>15934737.0</td>\n",
       "      <td>6.10</td>\n",
       "      <td>78021.5</td>\n",
       "      <td>160.0</td>\n",
       "    </tr>\n",
       "    <tr>\n",
       "      <th>4</th>\n",
       "      <td>4</td>\n",
       "      <td>8</td>\n",
       "      <td>87.0</td>\n",
       "      <td>277.0</td>\n",
       "      <td>127.0</td>\n",
       "      <td>108185706.0</td>\n",
       "      <td>108185706.0</td>\n",
       "      <td>86.36</td>\n",
       "      <td>7443111.0</td>\n",
       "      <td>35179.0</td>\n",
       "    </tr>\n",
       "  </tbody>\n",
       "</table>\n",
       "</div>"
      ]
     },
     "execution_count": 49,
     "metadata": {},
     "output_type": "execute_result"
    }
   ],
   "source": [
    "best_model_df.head()"
   ]
  },
  {
   "cell_type": "code",
   "execution_count": 50,
   "metadata": {},
   "outputs": [],
   "source": [
    "X = best_model_df[['X3','X4','X5','X7','X8','X1*X5','X2*X3','X4*X5']]"
   ]
  },
  {
   "cell_type": "code",
   "execution_count": 51,
   "metadata": {},
   "outputs": [
    {
     "data": {
      "text/plain": [
       "0.3449184284764235"
      ]
     },
     "execution_count": 51,
     "metadata": {},
     "output_type": "execute_result"
    }
   ],
   "source": [
    "lr = LinearRegression()\n",
    "# INSTRUCTOR NOTE: Run this multiple times to show the variation\n",
    "# Split the data into training and test sets\n",
    "X_train, X_test, y_train, y_test = train_test_split(X, y, test_size=0.2)\n",
    "# Fit the model against the training data\n",
    "lr.fit(X_train, y_train)\n",
    "# Evaluate the model against the testing data\n",
    "lr.score(X_test, y_test)"
   ]
  },
  {
   "cell_type": "code",
   "execution_count": 52,
   "metadata": {},
   "outputs": [
    {
     "data": {
      "text/plain": [
       "array([534.83829586, 286.44040069, 486.12362484])"
      ]
     },
     "execution_count": 52,
     "metadata": {},
     "output_type": "execute_result"
    }
   ],
   "source": [
    "reg = LinearRegression()\n",
    "scores = cross_val_score(reg, X, y, cv=3, scoring='neg_mean_squared_error')\n",
    "-scores"
   ]
  },
  {
   "cell_type": "code",
   "execution_count": 82,
   "metadata": {},
   "outputs": [
    {
     "data": {
      "text/plain": [
       "GridSearchCV(cv=5, error_score='raise',\n       estimator=Lasso(alpha=1.0, copy_X=True, fit_intercept=True, max_iter=10000,\n   normalize=False, positive=False, precompute=False, random_state=None,\n   selection='cyclic', tol=0.0001, warm_start=False),\n       fit_params=None, iid=True, n_jobs=1,\n       param_grid={'alpha': [0.0001, 0.001, 0.01, 0.1]},\n       pre_dispatch='2*n_jobs', refit=True, return_train_score='warn',\n       scoring=None, verbose=0)"
      ]
     },
     "execution_count": 82,
     "metadata": {},
     "output_type": "execute_result"
    }
   ],
   "source": [
    "d = {'alpha': [1e-4, 1e-3, 1e-2, .1]}\n",
    "clf = GridSearchCV(Lasso(max_iter= 10000), d, cv=5)\n",
    "clf.fit(X, y)"
   ]
  },
  {
   "cell_type": "code",
   "execution_count": 85,
   "metadata": {},
   "outputs": [
    {
     "name": "stdout",
     "output_type": "stream",
     "text": [
      "-7.197 (+/-23.803) for {'alpha': 0.0001}\n-7.197 (+/-23.803) for {'alpha': 0.001}\n-7.197 (+/-23.804) for {'alpha': 0.01}\n-7.196 (+/-23.814) for {'alpha': 0.1}\n"
     ]
    }
   ],
   "source": [
    "means = clf.cv_results_['mean_test_score']\n",
    "stds = clf.cv_results_['std_test_score']\n",
    "for mean, std, params in zip(means, stds, clf.cv_results_['params']):\n",
    "    print(\"%0.3f (+/-%0.03f) for %r\" % (mean, std * 2, params))\n",
    "    "
   ]
  },
  {
   "cell_type": "code",
   "execution_count": 86,
   "metadata": {},
   "outputs": [
    {
     "name": "stdout",
     "output_type": "stream",
     "text": [
      "('X3', -0.04501126652731938)\n('X4', -0.016469619193075567)\n('X5', 0.1453803008530245)\n('X7', -1.520714250230516e-07)\n('X8', 5.9430534376174546e-08)\n('X1*X5', -0.12505794903602216)\n('X2*X3', 2.774688266271181e-07)\n('X4*X5', 1.5777754103221374e-05)\n"
     ]
    }
   ],
   "source": [
    "clf = Lasso(max_iter=10000, alpha = .01)\n",
    "clf.fit(X,y)\n",
    "\n",
    "for tup in (list(zip(X.columns,clf.coef_))):\n",
    "    print(tup)\n"
   ]
  },
  {
   "cell_type": "code",
   "execution_count": 87,
   "metadata": {},
   "outputs": [
    {
     "data": {
      "image/png": "[encoded data removed]",
      "text/plain": [
       "<matplotlib.figure.Figure at 0x7f1bfd5c1f60>"
      ]
     },
     "metadata": {},
     "output_type": "display_data"
    }
   ],
   "source": [
    "preds = lr.predict(X)\n",
    "\n",
    "sns.jointplot(preds,y, kind='regplot');"
   ]
  },
  {
   "cell_type": "code",
   "execution_count": null,
   "metadata": {},
   "outputs": [],
   "source": []
  }
 ],
 "metadata": {
  "kernelspec": {
   "display_name": "Python 2",
   "language": "python",
   "name": "python2"
  },
  "language_info": {
   "codemirror_mode": {
    "name": "ipython",
    "version": 2
   },
   "file_extension": ".py",
   "mimetype": "text/x-python",
   "name": "python",
   "nbconvert_exporter": "python",
   "pygments_lexer": "ipython2",
   "version": "2.7.6"
  }
 },
 "nbformat": 4,
 "nbformat_minor": 0
}
